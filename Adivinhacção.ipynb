{
  "nbformat": 4,
  "nbformat_minor": 0,
  "metadata": {
    "colab": {
      "provenance": [],
      "authorship_tag": "ABX9TyOTtclfTEbU0siqZd3/Nxvw",
      "include_colab_link": true
    },
    "kernelspec": {
      "name": "python3",
      "display_name": "Python 3"
    },
    "language_info": {
      "name": "python"
    }
  },
  "cells": [
    {
      "cell_type": "markdown",
      "metadata": {
        "id": "view-in-github",
        "colab_type": "text"
      },
      "source": [
        "<a href=\"https://colab.research.google.com/github/Paulinho2138/Programa-o_FPB/blob/main/Adivinhac%C3%A7%C3%A3o.ipynb\" target=\"_parent\"><img src=\"https://colab.research.google.com/assets/colab-badge.svg\" alt=\"Open In Colab\"/></a>"
      ]
    },
    {
      "cell_type": "code",
      "execution_count": null,
      "metadata": {
        "id": "mBlGqr75xWn1"
      },
      "outputs": [],
      "source": [
        "import random\n",
        "\n",
        "num = random.randrange(101)\n",
        "minimo = 0\n",
        "maximo = 100\n",
        "pitaco = int(input(f'Chute um número entre {minimo} e {maximo}: '))\n",
        "cont = 1\n",
        "\n",
        "while(num != pitaco):\n",
        "  if ( pitaco > num):\n",
        "    maximo = pitaco\n",
        "  else:\n",
        "    minimo = pitaco\n",
        "  pitaco = int(input(f'chute um numero entre{minimo} e {maximo}: '))\n",
        "  cont+=1\n",
        "\n",
        "\n",
        "\n",
        "print(f'ACERTOU {cont} tentativas')"
      ]
    }
  ]
}