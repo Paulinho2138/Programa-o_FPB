{
  "nbformat": 4,
  "nbformat_minor": 0,
  "metadata": {
    "colab": {
      "provenance": [],
      "authorship_tag": "ABX9TyPAqWKMO729VfhBfkETAFMS",
      "include_colab_link": true
    },
    "kernelspec": {
      "name": "python3",
      "display_name": "Python 3"
    },
    "language_info": {
      "name": "python"
    }
  },
  "cells": [
    {
      "cell_type": "markdown",
      "metadata": {
        "id": "view-in-github",
        "colab_type": "text"
      },
      "source": [
        "<a href=\"https://colab.research.google.com/github/Paulinho2138/Programa-o_FPB/blob/main/toppapai.ipynb\" target=\"_parent\"><img src=\"https://colab.research.google.com/assets/colab-badge.svg\" alt=\"Open In Colab\"/></a>"
      ]
    },
    {
      "cell_type": "code",
      "execution_count": 3,
      "metadata": {
        "colab": {
          "base_uri": "https://localhost:8080/"
        },
        "id": "jMU8vyDE3dyb",
        "outputId": "83f7790c-4718-449b-8902-c05e99991550"
      },
      "outputs": [
        {
          "output_type": "stream",
          "name": "stdout",
          "text": [
            "Minha primeira função mano!!!\n"
          ]
        }
      ],
      "source": [
        "#Declaração da Função\n",
        "def primeiraFuncao():\n",
        "  print(\"Minha primeira função mano!!!\")\n",
        "\n",
        "#chamando a função\n",
        "primeiraFuncao()\n",
        "\n"
      ]
    },
    {
      "cell_type": "code",
      "source": [
        "def pronomeTratan(pronome):\n",
        "  print(pronome, \"Paulo\")"
      ],
      "metadata": {
        "id": "fqQrP5VA4fnh"
      },
      "execution_count": 4,
      "outputs": []
    },
    {
      "cell_type": "code",
      "source": [
        "pronomeTratan(\"Doutor\")\n",
        "pronomeTratan(\"Ilmo\")\n",
        "pronomeTratan(\"seu\")"
      ],
      "metadata": {
        "colab": {
          "base_uri": "https://localhost:8080/"
        },
        "id": "Iqdf1dQv4zff",
        "outputId": "e17c9547-5d55-4ee9-f86d-e69fbb392223"
      },
      "execution_count": 5,
      "outputs": [
        {
          "output_type": "stream",
          "name": "stdout",
          "text": [
            "Doutor Paulo\n",
            "Ilmo Paulo\n",
            "seu Paulo\n"
          ]
        }
      ]
    },
    {
      "cell_type": "code",
      "source": [
        "#Uma função deve ser chamada com o numero certinho \n",
        " def boasVindas(nome, cargo):\n",
        " print(\"Ola\"+cargo + \" \"+nome)"
      ],
      "metadata": {
        "id": "7Wt_vtzq53km"
      },
      "execution_count": null,
      "outputs": []
    },
    {
      "cell_type": "code",
      "source": [
        "idade = int(input(\"Digite seu ano de nascimento:\"))\n",
        "\n",
        "print( 2023 - idade)"
      ],
      "metadata": {
        "colab": {
          "base_uri": "https://localhost:8080/"
        },
        "id": "3PVoI3Sw-mou",
        "outputId": "46b92f18-a1b6-4bc4-cd67-ee34f12a6f8a"
      },
      "execution_count": 12,
      "outputs": [
        {
          "output_type": "stream",
          "name": "stdout",
          "text": [
            "Digite seu ano de nascimento:2023\n",
            "0\n"
          ]
        }
      ]
    },
    {
      "cell_type": "code",
      "source": [
        "def media(*notas):\n",
        "  soma = 0\n",
        "  for nota in notas:\n",
        "       soma += nota\n",
        "  print(soma / len(notas))"
      ],
      "metadata": {
        "id": "NlR7BVTd9l9p"
      },
      "execution_count": 24,
      "outputs": []
    },
    {
      "cell_type": "code",
      "source": [
        "media(8,5,3,7,2,10)\n"
      ],
      "metadata": {
        "colab": {
          "base_uri": "https://localhost:8080/"
        },
        "id": "wYYdi9rG-BXo",
        "outputId": "4f67d9f3-e009-4776-f4d5-59645f000315"
      },
      "execution_count": 25,
      "outputs": [
        {
          "output_type": "stream",
          "name": "stdout",
          "text": [
            "5.833333333333333\n"
          ]
        }
      ]
    }
  ]
}