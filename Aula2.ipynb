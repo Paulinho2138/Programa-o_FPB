{
  "nbformat": 4,
  "nbformat_minor": 0,
  "metadata": {
    "colab": {
      "provenance": [],
      "authorship_tag": "ABX9TyN+FNMPLIaQzW/UEBSRSn0w",
      "include_colab_link": true
    },
    "kernelspec": {
      "name": "python3",
      "display_name": "Python 3"
    },
    "language_info": {
      "name": "python"
    }
  },
  "cells": [
    {
      "cell_type": "markdown",
      "metadata": {
        "id": "view-in-github",
        "colab_type": "text"
      },
      "source": [
        "<a href=\"https://colab.research.google.com/github/Paulinho2138/Programa-o_FPB/blob/main/Aula2.ipynb\" target=\"_parent\"><img src=\"https://colab.research.google.com/assets/colab-badge.svg\" alt=\"Open In Colab\"/></a>"
      ]
    },
    {
      "cell_type": "code",
      "execution_count": null,
      "metadata": {
        "colab": {
          "base_uri": "https://localhost:8080/"
        },
        "id": "F3Xt8rhOK6S-",
        "outputId": "1396f21f-cdf9-4d45-d30d-dd43980854ec"
      },
      "outputs": [
        {
          "output_type": "stream",
          "name": "stdout",
          "text": [
            "Digite seu ano de nascimento! 2003\n",
            "Sua idade é :  20\n"
          ]
        }
      ],
      "source": [
        "#Código para dizer a idade \n",
        "anoNascim = input('Digite seu ano de nascimento! ')\n",
        "print('Sua idade é : ' ,2023-int(anoNascim))"
      ]
    },
    {
      "cell_type": "code",
      "source": [
        "#Solicita a altura e o peso de alguém, e retorna o IMC\n",
        "#imc = peso / altura**2\n",
        "\n",
        "peso = float(input('Digite seu peso! '))\n",
        "altura = float(input('Digite sua altura! '))\n",
        "imc = peso/altura**2\n",
        "print('O IMC é:' ,imc)"
      ],
      "metadata": {
        "colab": {
          "base_uri": "https://localhost:8080/"
        },
        "id": "zVqcx_mVLKsi",
        "outputId": "ad1a7f3e-cc2d-414a-b0c5-08c201a4b877"
      },
      "execution_count": null,
      "outputs": [
        {
          "output_type": "stream",
          "name": "stdout",
          "text": [
            "Digite seu peso! 57\n",
            "Digite sua altura! 1.75\n",
            "O IMC é: 18.612244897959183\n"
          ]
        }
      ]
    },
    {
      "cell_type": "code",
      "source": [
        "#Verificações lógicas \n",
        "a = 45\n",
        "b = 33 \n",
        "print(a > b)\n",
        "print(a < b)"
      ],
      "metadata": {
        "colab": {
          "base_uri": "https://localhost:8080/"
        },
        "id": "7XIMSH8mLOiu",
        "outputId": "3463342c-beb6-43b8-95e6-251fdd2a8fe4"
      },
      "execution_count": null,
      "outputs": [
        {
          "output_type": "stream",
          "name": "stdout",
          "text": [
            "True\n",
            "False\n"
          ]
        }
      ]
    },
    {
      "cell_type": "code",
      "source": [
        "#Verificar se um número e par \n",
        "num = int(input('Digite um número: '))\n",
        "if(num%2 == 0):\n",
        "  print('O número é par') \n",
        "else:\n",
        "  print('O número é ímpar')   "
      ],
      "metadata": {
        "colab": {
          "base_uri": "https://localhost:8080/"
        },
        "id": "AsiWtEbTLR99",
        "outputId": "ddf2ce8f-632b-449e-cc80-1a24d70f2e10"
      },
      "execution_count": null,
      "outputs": [
        {
          "output_type": "stream",
          "name": "stdout",
          "text": [
            "Digite um número: 34\n",
            "O número é par\n"
          ]
        }
      ]
    },
    {
      "cell_type": "code",
      "source": [
        "#Em um campeonato de MMA, tem três categorias por peso \n",
        "#galo ate 70kg\n",
        "#médio até 80kg \n",
        "#meio pesado ate 90kg\n",
        "#pesado mais de 90 kg\n",
        "peso = float(input('Digite o peso do atleta:'))\n",
        "if(peso <= 70):\n",
        "  print('Galo') \n",
        "elif(peso <= 80):   \n",
        "  print('médio')\n",
        "elif(peso <= 90):\n",
        "  print('meio pesado')\n",
        "else:\n",
        "  print(' pesado')   \n"
      ],
      "metadata": {
        "colab": {
          "base_uri": "https://localhost:8080/"
        },
        "id": "G_GXJWrhLSo8",
        "outputId": "bc6841d6-c8b1-4c32-b958-f86f5db34142"
      },
      "execution_count": null,
      "outputs": [
        {
          "output_type": "stream",
          "name": "stdout",
          "text": [
            "Digite o peso do atleta:78\n",
            "médio\n"
          ]
        }
      ]
    },
    {
      "cell_type": "code",
      "source": [
        "peso = float(input('Digite seu peso! '))\n",
        "altura = float(input('Digite sua altura! '))\n",
        "imc = peso/altura**2\n",
        "if(imc < 18.5):\n",
        "  print('Abaixo do peso normal')\n",
        "elif(imc < 25): \n",
        "  print('Peso normal')\n",
        "elif(imc < 30):\n",
        "  print('Excesso de peso')\n",
        "elif(imc < 35):\n",
        "  print('Obsidade classe I') \n",
        "elif(imc < 40):\n",
        "  print('Obsidade classe II')\n",
        "else:\n",
        "  print('Obsidade classe III')\n",
        "print('O IMC do Paciente é:', round(imc,2))"
      ],
      "metadata": {
        "colab": {
          "base_uri": "https://localhost:8080/"
        },
        "id": "-eKrMxEELVrb",
        "outputId": "efeca3bc-04a0-4731-c834-2c29ee7054ff"
      },
      "execution_count": null,
      "outputs": [
        {
          "output_type": "stream",
          "name": "stdout",
          "text": [
            "Digite seu peso! 57\n",
            "Digite sua altura! 1.75\n",
            "Peso normal\n",
            "O IMC do Paciente é: 18.61\n"
          ]
        }
      ]
    }
  ]
}