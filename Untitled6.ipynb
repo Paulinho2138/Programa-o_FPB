{
  "nbformat": 4,
  "nbformat_minor": 0,
  "metadata": {
    "colab": {
      "provenance": [],
      "authorship_tag": "ABX9TyNzhkCrjVzx9KXvktqMKUWs",
      "include_colab_link": true
    },
    "kernelspec": {
      "name": "python3",
      "display_name": "Python 3"
    },
    "language_info": {
      "name": "python"
    }
  },
  "cells": [
    {
      "cell_type": "markdown",
      "metadata": {
        "id": "view-in-github",
        "colab_type": "text"
      },
      "source": [
        "<a href=\"https://colab.research.google.com/github/Paulinho2138/Programa-o_FPB/blob/main/Untitled6.ipynb\" target=\"_parent\"><img src=\"https://colab.research.google.com/assets/colab-badge.svg\" alt=\"Open In Colab\"/></a>"
      ]
    },
    {
      "cell_type": "code",
      "source": [
        "#Criando dicionários\n",
        "#Os dicionários são definidos utilizando chaves {} \n",
        "#e os pares chave-valor são separados por dois pontos (:)\n",
        "\n",
        "#Contatos\n",
        "contatos = {\n",
        "    'Ostervaldo' : 'oster@email.com',\n",
        "    'Maristênio' : 'marist@email.com',\n",
        "    'Leroiane' : 'lero@email.com', \n",
        "    'Jozezin' : ['zezin@exemplo.com', 'zemane@xemple.com']\n",
        "}\n",
        "\n",
        "contatos\n",
        "     "
      ],
      "metadata": {
        "colab": {
          "base_uri": "https://localhost:8080/"
        },
        "id": "6H90yYurIG96",
        "outputId": "607b96df-8d7b-477f-b4ad-1d8c093a5dfd"
      },
      "execution_count": 1,
      "outputs": [
        {
          "output_type": "execute_result",
          "data": {
            "text/plain": [
              "{'Ostervaldo': 'oster@email.com',\n",
              " 'Maristênio': 'marist@email.com',\n",
              " 'Leroiane': 'lero@email.com',\n",
              " 'Jozezin': ['zezin@exemplo.com', 'zemane@xemple.com']}"
            ]
          },
          "metadata": {},
          "execution_count": 1
        }
      ]
    },
    {
      "cell_type": "code",
      "source": [
        "#Acessando valores\n",
        "contatos['Leroiane']\n",
        "     "
      ],
      "metadata": {
        "colab": {
          "base_uri": "https://localhost:8080/",
          "height": 35
        },
        "id": "xHgHXbtuIVmg",
        "outputId": "4e268f31-a4f2-406a-9cb0-045202927a27"
      },
      "execution_count": 3,
      "outputs": [
        {
          "output_type": "execute_result",
          "data": {
            "text/plain": [
              "'lero@email.com'"
            ],
            "application/vnd.google.colaboratory.intrinsic+json": {
              "type": "string"
            }
          },
          "metadata": {},
          "execution_count": 3
        }
      ]
    },
    {
      "cell_type": "code",
      "source": [
        "#Para evitar erros ao buscar por possíveis valores inexistentes, utilizar o get()\n",
        "contatos.get('Brasil', 'Contato inexistente')\n",
        "     "
      ],
      "metadata": {
        "colab": {
          "base_uri": "https://localhost:8080/",
          "height": 35
        },
        "id": "vRmW1dTwIXzC",
        "outputId": "1b4519bf-5d47-48ea-ca89-83333dea3be6"
      },
      "execution_count": 4,
      "outputs": [
        {
          "output_type": "execute_result",
          "data": {
            "text/plain": [
              "'Contato inexistente'"
            ],
            "application/vnd.google.colaboratory.intrinsic+json": {
              "type": "string"
            }
          },
          "metadata": {},
          "execution_count": 4
        }
      ]
    },
    {
      "cell_type": "code",
      "source": [
        "\n",
        "#Adicionar\n",
        "contatos['Evilásio'] = 'evi@exemplo.com'\n",
        "\n",
        "contatos"
      ],
      "metadata": {
        "colab": {
          "base_uri": "https://localhost:8080/"
        },
        "id": "C8NA2IqBIZrI",
        "outputId": "1ea80b64-4ffd-4a4f-b0a5-fc3b7c0dcbbd"
      },
      "execution_count": 5,
      "outputs": [
        {
          "output_type": "execute_result",
          "data": {
            "text/plain": [
              "{'Ostervaldo': 'oster@email.com',\n",
              " 'Maristênio': 'marist@email.com',\n",
              " 'Leroiane': 'lero@email.com',\n",
              " 'Jozezin': ['zezin@exemplo.com', 'zemane@xemple.com'],\n",
              " 'Evilásio': 'evi@exemplo.com'}"
            ]
          },
          "metadata": {},
          "execution_count": 5
        }
      ]
    },
    {
      "cell_type": "code",
      "source": [
        "#Adição por concatenação\n",
        "a = {'zé': 'ze@mailzemplo.com', \n",
        "     'gardenia':'gardenia@exemplo.com',\n",
        "     'Aloisio' : 'aloisio@exml.com'}\n",
        "\n",
        "contatos.update(a)\n",
        "\n",
        "contatos"
      ],
      "metadata": {
        "id": "Rh5_jCndIcUh"
      },
      "execution_count": null,
      "outputs": []
    },
    {
      "cell_type": "code",
      "source": [
        "#Modificar (só inserir um novo valor à chave correspondente)\n",
        "contatos['Maristênio'] = 'steniomari2023@exemplo.com'\n",
        "\n",
        "contatos"
      ],
      "metadata": {
        "colab": {
          "base_uri": "https://localhost:8080/"
        },
        "id": "pFu9O6Z8IgHI",
        "outputId": "c4d51a99-507a-4359-f8e8-2f448d7ea32f"
      },
      "execution_count": 7,
      "outputs": [
        {
          "output_type": "execute_result",
          "data": {
            "text/plain": [
              "{'Ostervaldo': 'oster@email.com',\n",
              " 'Maristênio': 'steniomari2023@exemplo.com',\n",
              " 'Leroiane': 'lero@email.com',\n",
              " 'Jozezin': ['zezin@exemplo.com', 'zemane@xemple.com'],\n",
              " 'Evilásio': 'evi@exemplo.com',\n",
              " 'zé': 'ze@mailzemplo.com',\n",
              " 'gardenia': 'gardenia@exemplo.com',\n",
              " 'Aloisio': 'aloisio@exml.com'}"
            ]
          },
          "metadata": {},
          "execution_count": 7
        }
      ]
    },
    {
      "cell_type": "code",
      "source": [
        "#Remoção del\n",
        "\n",
        "del contatos['Evilásio']\n",
        "\n",
        "contatos"
      ],
      "metadata": {
        "colab": {
          "base_uri": "https://localhost:8080/"
        },
        "id": "cUEcNbcRIieA",
        "outputId": "1a2749dd-9771-4522-f46f-6008cb15ae85"
      },
      "execution_count": 8,
      "outputs": [
        {
          "output_type": "execute_result",
          "data": {
            "text/plain": [
              "{'Ostervaldo': 'oster@email.com',\n",
              " 'Maristênio': 'steniomari2023@exemplo.com',\n",
              " 'Leroiane': 'lero@email.com',\n",
              " 'Jozezin': ['zezin@exemplo.com', 'zemane@xemple.com'],\n",
              " 'zé': 'ze@mailzemplo.com',\n",
              " 'gardenia': 'gardenia@exemplo.com',\n",
              " 'Aloisio': 'aloisio@exml.com'}"
            ]
          },
          "metadata": {},
          "execution_count": 8
        }
      ]
    },
    {
      "cell_type": "code",
      "source": [
        "contatos.items()"
      ],
      "metadata": {
        "colab": {
          "base_uri": "https://localhost:8080/"
        },
        "id": "K8I4HGjPIkO4",
        "outputId": "b980a971-f150-43db-c5be-a5437a84895b"
      },
      "execution_count": 9,
      "outputs": [
        {
          "output_type": "execute_result",
          "data": {
            "text/plain": [
              "dict_items([('Ostervaldo', 'oster@email.com'), ('Maristênio', 'steniomari2023@exemplo.com'), ('Leroiane', 'lero@email.com'), ('Jozezin', ['zezin@exemplo.com', 'zemane@xemple.com']), ('zé', 'ze@mailzemplo.com'), ('gardenia', 'gardenia@exemplo.com'), ('Aloisio', 'aloisio@exml.com')])"
            ]
          },
          "metadata": {},
          "execution_count": 9
        }
      ]
    },
    {
      "cell_type": "code",
      "source": [
        "#Iterando sobre dicionários\n",
        "for nome, email in contatos.items():\n",
        "  print(f'o Email {email} pertence a {nome}')"
      ],
      "metadata": {
        "colab": {
          "base_uri": "https://localhost:8080/"
        },
        "id": "gbNiHMywImiw",
        "outputId": "238ab9e3-916a-4433-8c2e-a445f24ba902"
      },
      "execution_count": 10,
      "outputs": [
        {
          "output_type": "stream",
          "name": "stdout",
          "text": [
            "o Email oster@email.com pertence a Ostervaldo\n",
            "o Email steniomari2023@exemplo.com pertence a Maristênio\n",
            "o Email lero@email.com pertence a Leroiane\n",
            "o Email ['zezin@exemplo.com', 'zemane@xemple.com'] pertence a Jozezin\n",
            "o Email ze@mailzemplo.com pertence a zé\n",
            "o Email gardenia@exemplo.com pertence a gardenia\n",
            "o Email aloisio@exml.com pertence a Aloisio\n"
          ]
        }
      ]
    },
    {
      "cell_type": "code",
      "source": [
        "\n",
        "#métodos úteis keys(), values()\n",
        "contatos.keys()\n",
        "contatos.values()\n",
        "     "
      ],
      "metadata": {
        "colab": {
          "base_uri": "https://localhost:8080/"
        },
        "id": "10LcvfXYIpQY",
        "outputId": "40d861f6-676d-4cae-fec4-c3c315a3adad"
      },
      "execution_count": 11,
      "outputs": [
        {
          "output_type": "execute_result",
          "data": {
            "text/plain": [
              "dict_values(['oster@email.com', 'steniomari2023@exemplo.com', 'lero@email.com', ['zezin@exemplo.com', 'zemane@xemple.com'], 'ze@mailzemplo.com', 'gardenia@exemplo.com', 'aloisio@exml.com'])"
            ]
          },
          "metadata": {},
          "execution_count": 11
        }
      ]
    },
    {
      "cell_type": "code",
      "source": [
        "#Valores máximos, mínimos e ordenações\n",
        "curso = {'Alice': 8.5, 'Tiago': 7.0, 'Chico': 6.5, 'Nubia': 10}\n",
        "#Quem obteve a maior nota?\n",
        "max(curso, key=curso.get)\n",
        "#quem teve o pior desempenho?\n",
        "min(curso, key=curso.get)\n",
        "#Ordene da menor nota para a maior\n",
        "sorted(curso, key=curso.get)\n",
        "#ordenar da maior nota para a menor\n",
        "sorted(curso, key=curso.get, reverse=True)\n",
        "     "
      ],
      "metadata": {
        "colab": {
          "base_uri": "https://localhost:8080/"
        },
        "id": "aqVhYkXjIptA",
        "outputId": "87723ceb-434e-45c4-d218-d93fcfacd347"
      },
      "execution_count": 12,
      "outputs": [
        {
          "output_type": "execute_result",
          "data": {
            "text/plain": [
              "['Nubia', 'Alice', 'Tiago', 'Chico']"
            ]
          },
          "metadata": {},
          "execution_count": 12
        }
      ]
    },
    {
      "cell_type": "code",
      "source": [
        "\n",
        "curso = {'Alice': 8.5, 'Tiago': 7.0, 'Chico': 6.5, 'Nubia': 10}\n",
        "#Quem obteve a maior nota?\n",
        "max(curso, key= curso.get)\n",
        "     "
      ],
      "metadata": {
        "colab": {
          "base_uri": "https://localhost:8080/",
          "height": 35
        },
        "id": "lp3r-rZxItHq",
        "outputId": "88d8df9f-ddf4-411b-e604-74e1cd18e1d1"
      },
      "execution_count": 13,
      "outputs": [
        {
          "output_type": "execute_result",
          "data": {
            "text/plain": [
              "'Nubia'"
            ],
            "application/vnd.google.colaboratory.intrinsic+json": {
              "type": "string"
            }
          },
          "metadata": {},
          "execution_count": 13
        }
      ]
    },
    {
      "cell_type": "code",
      "source": [
        "#E a menor nota?\n",
        "min(curso, key = curso.get)"
      ],
      "metadata": {
        "colab": {
          "base_uri": "https://localhost:8080/",
          "height": 35
        },
        "id": "Wpe7fZAhJOYQ",
        "outputId": "acbcdf2c-297a-49e2-bc36-e2b43f084ee5"
      },
      "execution_count": 14,
      "outputs": [
        {
          "output_type": "execute_result",
          "data": {
            "text/plain": [
              "'Chico'"
            ],
            "application/vnd.google.colaboratory.intrinsic+json": {
              "type": "string"
            }
          },
          "metadata": {},
          "execution_count": 14
        }
      ]
    },
    {
      "cell_type": "code",
      "source": [
        "\n",
        "#Ordene pela nota da menor para a maior\n",
        "sorted(curso, key = curso.get)"
      ],
      "metadata": {
        "colab": {
          "base_uri": "https://localhost:8080/"
        },
        "id": "KwIt6ZTHJPNZ",
        "outputId": "6bc0a58c-b6fb-49ef-b647-6db3887e6234"
      },
      "execution_count": 15,
      "outputs": [
        {
          "output_type": "execute_result",
          "data": {
            "text/plain": [
              "['Chico', 'Tiago', 'Alice', 'Nubia']"
            ]
          },
          "metadata": {},
          "execution_count": 15
        }
      ]
    },
    {
      "cell_type": "code",
      "source": [
        "#Ordene pela nota da maior para a menor\n",
        "sorted(curso, key = curso.get, reverse = True)\n",
        "     "
      ],
      "metadata": {
        "colab": {
          "base_uri": "https://localhost:8080/"
        },
        "id": "bmF3N_chJQ8p",
        "outputId": "f2c45d7b-772c-4876-9141-574f3fd24706"
      },
      "execution_count": 16,
      "outputs": [
        {
          "output_type": "execute_result",
          "data": {
            "text/plain": [
              "['Nubia', 'Alice', 'Tiago', 'Chico']"
            ]
          },
          "metadata": {},
          "execution_count": 16
        }
      ]
    }
  ]
}