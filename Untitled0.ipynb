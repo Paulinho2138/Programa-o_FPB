{
  "nbformat": 4,
  "nbformat_minor": 0,
  "metadata": {
    "colab": {
      "provenance": [],
      "authorship_tag": "ABX9TyPX3ywpZ+yLvA+iKswvHeHJ",
      "include_colab_link": true
    },
    "kernelspec": {
      "name": "python3",
      "display_name": "Python 3"
    },
    "language_info": {
      "name": "python"
    }
  },
  "cells": [
    {
      "cell_type": "markdown",
      "metadata": {
        "id": "view-in-github",
        "colab_type": "text"
      },
      "source": [
        "<a href=\"https://colab.research.google.com/github/Paulinho2138/Programa-o_FPB/blob/main/Untitled0.ipynb\" target=\"_parent\"><img src=\"https://colab.research.google.com/assets/colab-badge.svg\" alt=\"Open In Colab\"/></a>"
      ]
    },
    {
      "cell_type": "code",
      "execution_count": 2,
      "metadata": {
        "colab": {
          "base_uri": "https://localhost:8080/"
        },
        "id": "02EtZtbJmlmq",
        "outputId": "f0aa0b70-0bc0-4e9e-82f1-6f8f5ecf94cf"
      },
      "outputs": [
        {
          "output_type": "stream",
          "name": "stdout",
          "text": [
            "São Paulo Maior Do Brasil\n"
          ]
        }
      ],
      "source": [
        "print(\"São Paulo Maior Do Brasil\")"
      ]
    },
    {
      "cell_type": "code",
      "source": [
        "#Operações Com Variáveis\n",
        "a = 19\n",
        "b = 18\n",
        "soma = a + b\n",
        "subtração = a - b\n",
        "divisão = a / b \n",
        "multiplicação = a * b"
      ],
      "metadata": {
        "id": "XFJ2DAWloHma"
      },
      "execution_count": 4,
      "outputs": []
    },
    {
      "cell_type": "code",
      "source": [
        "print(soma)\n",
        "print(subtração)\n",
        "print(divisão)\n",
        "print(multiplicação)\n"
      ],
      "metadata": {
        "colab": {
          "base_uri": "https://localhost:8080/"
        },
        "id": "dBOYQCifof7E",
        "outputId": "e1bfc92f-013c-443c-c496-84cb6d841266"
      },
      "execution_count": 30,
      "outputs": [
        {
          "output_type": "stream",
          "name": "stdout",
          "text": [
            "37\n",
            "1\n",
            "1.0555555555555556\n",
            "342\n"
          ]
        }
      ]
    },
    {
      "cell_type": "code",
      "source": [
        "#Operações com variáveis\n",
        "Paulo = 45\n",
        "Kennety = 10\n",
        "Iarley = 1\n",
        "media = (Paulo + Kennety + Iarley / 3)\n",
        "print(media)"
      ],
      "metadata": {
        "colab": {
          "base_uri": "https://localhost:8080/"
        },
        "id": "3GDQH-24o2pO",
        "outputId": "3f8b69c4-faa3-45fa-cb12-bc44c17500ce"
      },
      "execution_count": 12,
      "outputs": [
        {
          "output_type": "stream",
          "name": "stdout",
          "text": [
            "55.333333333333336\n"
          ]
        }
      ]
    },
    {
      "cell_type": "code",
      "source": [
        "#calcular idade\n",
        "anonasci = 2003\n",
        "print(2023-2003)"
      ],
      "metadata": {
        "colab": {
          "base_uri": "https://localhost:8080/"
        },
        "id": "TJNJh17jpb8t",
        "outputId": "53c9c4d3-98db-4254-94d2-5be6cc0c32fb"
      },
      "execution_count": 14,
      "outputs": [
        {
          "output_type": "stream",
          "name": "stdout",
          "text": [
            "20\n"
          ]
        }
      ]
    },
    {
      "cell_type": "code",
      "source": [
        "#trabalhando com INPUTS\n",
        "nome = input('Digite seu nome ')\n",
        "print('Olá  '+nome)"
      ],
      "metadata": {
        "colab": {
          "base_uri": "https://localhost:8080/"
        },
        "id": "PScfvMEfprOQ",
        "outputId": "60d714ee-4ac8-47ea-8d62-530dcf67f23a"
      },
      "execution_count": 33,
      "outputs": [
        {
          "output_type": "stream",
          "name": "stdout",
          "text": [
            "Digite seu nome Paulo Gostoso\n",
            "Olá  Paulo Gostoso\n"
          ]
        }
      ]
    },
    {
      "cell_type": "code",
      "source": [
        "#pede um numero e multiplica por 3\n",
        "num = int(input('Digite um numero '))\n",
        "print(num*3)"
      ],
      "metadata": {
        "colab": {
          "base_uri": "https://localhost:8080/"
        },
        "id": "4iTQ2DkaqPgi",
        "outputId": "d4a39a97-9251-40d8-df91-524d29433d01"
      },
      "execution_count": 21,
      "outputs": [
        {
          "output_type": "stream",
          "name": "stdout",
          "text": [
            "Digite um numero 10\n",
            "30\n"
          ]
        }
      ]
    }
  ]
}