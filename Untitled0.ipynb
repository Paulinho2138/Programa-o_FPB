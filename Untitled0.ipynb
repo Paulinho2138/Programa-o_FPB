{
  "nbformat": 4,
  "nbformat_minor": 0,
  "metadata": {
    "colab": {
      "provenance": [],
      "authorship_tag": "ABX9TyNKKajHFsnmfvR4qbOK5sIj",
      "include_colab_link": true
    },
    "kernelspec": {
      "name": "python3",
      "display_name": "Python 3"
    },
    "language_info": {
      "name": "python"
    }
  },
  "cells": [
    {
      "cell_type": "markdown",
      "metadata": {
        "id": "view-in-github",
        "colab_type": "text"
      },
      "source": [
        "<a href=\"https://colab.research.google.com/github/Paulinho2138/Programa-o_FPB/blob/main/Untitled0.ipynb\" target=\"_parent\"><img src=\"https://colab.research.google.com/assets/colab-badge.svg\" alt=\"Open In Colab\"/></a>"
      ]
    },
    {
      "cell_type": "code",
      "execution_count": 3,
      "metadata": {
        "colab": {
          "base_uri": "https://localhost:8080/"
        },
        "id": "ZEvZlMM9nhiu",
        "outputId": "df00f1f9-fdbc-445a-c841-7c8be6f9477f"
      },
      "outputs": [
        {
          "output_type": "stream",
          "name": "stdout",
          "text": [
            "False\n",
            "True\n",
            "False\n",
            "True\n",
            "False\n",
            "True\n"
          ]
        }
      ],
      "source": [
        "#Tipos booleanos\n",
        "print(100 == (50+50)) #igualdade\n",
        "print(100 >= (50+50))\n",
        "print(100 > (50+50))\n",
        "print(100 <= (50+50))\n",
        "print(100 != (50+50))\n",
        "print(100 != 99)"
      ]
    },
    {
      "cell_type": "code",
      "source": [
        "# se a idade for maior ou igual a 18, exiba: pode tirar a Carteira Nacional de Habilitação\n",
        "idade = int(input(\"Digite a Idade\"))\n",
        "if(idade >= 18):\n",
        "  print('Pode tirar Carteira Nacional de Habilitação')\n",
        "else:\n",
        "    print('Ainda nao pode tirar a Carteira Nacional de Habilitação')"
      ],
      "metadata": {
        "colab": {
          "base_uri": "https://localhost:8080/"
        },
        "id": "nuvDM_X6pUuR",
        "outputId": "e63ad859-50d1-49fa-ed5a-29febf61c4b5"
      },
      "execution_count": 8,
      "outputs": [
        {
          "output_type": "stream",
          "name": "stdout",
          "text": [
            "Digite a Idade13\n",
            "Ainda nao pode tirar a Carteira Nacional de Habilitação\n"
          ]
        }
      ]
    },
    {
      "cell_type": "code",
      "source": [
        "#Se for do sexo feminino \"F\", e tiver 55 anos ou mais, pode se aposentar\n",
        "#se for do sexo masculino \"M\" só se aposenta com 60 anos ou mais.\n",
        "sexo = \"F\"\n",
        "idade = 58\n",
        "if(sexo == \"F\" and idade >=55):\n",
        "  print(\"Pode se aposentar\")\n",
        "elif(sexo == \"M\" and idade >=60):\n",
        "  print(\"Não pode se aposentar\")\n",
        "else:\n",
        "  print(\"Ainda Não pode\")\n",
        " \n"
      ],
      "metadata": {
        "colab": {
          "base_uri": "https://localhost:8080/"
        },
        "id": "M5I01S6zqv34",
        "outputId": "f39740b5-44d9-48ef-ff93-c9ba4e30bcf7"
      },
      "execution_count": 20,
      "outputs": [
        {
          "output_type": "stream",
          "name": "stdout",
          "text": [
            "Pode se aposentar\n"
          ]
        }
      ]
    },
    {
      "cell_type": "code",
      "source": [
        "#Versão II\n",
        "sexo = input(\"Insira o Sexo: M (masculino) or f (feminino): \")\n",
        "idade = int(input(\"Insira a Idade\"))\n",
        "if((sexo == \"F\" and idade >=55) or (sexo == \"M\" and idade >=60)):\n",
        "  print(\"Pode se aposentar\")\n",
        "else:\n",
        " print(\"Ainda não pode\")"
      ],
      "metadata": {
        "colab": {
          "base_uri": "https://localhost:8080/"
        },
        "id": "aVGP7SrTtmPI",
        "outputId": "5921f5b0-38a4-4789-f609-c18d679b9fcc"
      },
      "execution_count": 23,
      "outputs": [
        {
          "output_type": "stream",
          "name": "stdout",
          "text": [
            "Insira o Sexo: M (masculino) or f (feminino): M\n",
            "Insira a Idade16\n",
            "Ainda não pode\n"
          ]
        }
      ]
    },
    {
      "cell_type": "code",
      "source": [],
      "metadata": {
        "id": "A-roajZA0kEi"
      },
      "execution_count": null,
      "outputs": []
    },
    {
      "cell_type": "code",
      "source": [
        "#Solicita três números A, B, C.\n",
        "#Imprima na tela se A+B é menor que C.\n",
        "A= int(input(\"Digite o valor A\"))\n",
        "B= int(input(\"Digite o valor B\"))\n",
        "C= int(input(\"Digite o valor C\"))\n",
        "if(A+B < C):\n",
        "  print(\"É menor\")\n",
        "else:\n",
        "  print(\"Não é menor\")"
      ],
      "metadata": {
        "colab": {
          "base_uri": "https://localhost:8080/"
        },
        "id": "uIShWS8av6e-",
        "outputId": "9ece126e-490e-4606-fd2e-45f840e91bab"
      },
      "execution_count": 32,
      "outputs": [
        {
          "output_type": "stream",
          "name": "stdout",
          "text": [
            "Digite o valor A10\n",
            "Digite o valor B10\n",
            "Digite o valor C10\n",
            "Não é menor\n"
          ]
        }
      ]
    },
    {
      "cell_type": "code",
      "source": [
        "#Escreva um algorítimo que receba 2 valores inteiros\n",
        "#E escreva na tela qual é o maior.\n",
        "Num1 = int(input('Número 1'))\n",
        "Num2 = int(input('Numero 2'))\n",
        "if(Num1 > Num2):\n",
        "  print('Número 1 é maior')\n",
        "elif(Num2 > Num1):\n",
        "  print('Número 2 é maior')\n",
        "else:\n",
        "  print('Os números são iguais')\n"
      ],
      "metadata": {
        "colab": {
          "base_uri": "https://localhost:8080/"
        },
        "id": "G_SsosR4yzCK",
        "outputId": "bb771ece-0c33-4a5d-ab90-885c59503985"
      },
      "execution_count": 37,
      "outputs": [
        {
          "output_type": "stream",
          "name": "stdout",
          "text": [
            "Número 145\n",
            "Numero 245\n",
            "Os números são iguais\n"
          ]
        }
      ]
    },
    {
      "cell_type": "code",
      "source": [],
      "metadata": {
        "id": "tjJ7AEPw1UNR"
      },
      "execution_count": null,
      "outputs": []
    }
  ]
}