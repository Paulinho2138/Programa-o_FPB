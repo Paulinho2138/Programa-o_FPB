{
  "nbformat": 4,
  "nbformat_minor": 0,
  "metadata": {
    "colab": {
      "provenance": [],
      "authorship_tag": "ABX9TyNKEVSfDpkPow04iqJWyN8N",
      "include_colab_link": true
    },
    "kernelspec": {
      "name": "python3",
      "display_name": "Python 3"
    },
    "language_info": {
      "name": "python"
    }
  },
  "cells": [
    {
      "cell_type": "markdown",
      "metadata": {
        "id": "view-in-github",
        "colab_type": "text"
      },
      "source": [
        "<a href=\"https://colab.research.google.com/github/Paulinho2138/Programa-o_FPB/blob/main/Untitled0.ipynb\" target=\"_parent\"><img src=\"https://colab.research.google.com/assets/colab-badge.svg\" alt=\"Open In Colab\"/></a>"
      ]
    },
    {
      "cell_type": "code",
      "execution_count": 2,
      "metadata": {
        "colab": {
          "base_uri": "https://localhost:8080/"
        },
        "id": "02EtZtbJmlmq",
        "outputId": "f0aa0b70-0bc0-4e9e-82f1-6f8f5ecf94cf"
      },
      "outputs": [
        {
          "output_type": "stream",
          "name": "stdout",
          "text": [
            "São Paulo Maior Do Brasil\n"
          ]
        }
      ],
      "source": [
        "print(\"São Paulo Maior Do Brasil\")"
      ]
    },
    {
      "cell_type": "code",
      "source": [
        "#Operações Com Variáveis\n",
        "a = 19\n",
        "b = 18\n",
        "soma = a + b\n",
        "subtração = a - b\n",
        "divisão = a / b \n",
        "multiplicação = a * b"
      ],
      "metadata": {
        "id": "XFJ2DAWloHma"
      },
      "execution_count": 4,
      "outputs": []
    },
    {
      "cell_type": "code",
      "source": [
        "print(soma)\n",
        "print(subtração)\n",
        "print(divisão)\n",
        "print(Multiplicação)\n"
      ],
      "metadata": {
        "colab": {
          "base_uri": "https://localhost:8080/",
          "height": 252
        },
        "id": "dBOYQCifof7E",
        "outputId": "94646d9b-9abc-45a4-cfce-39fcaa254a9f"
      },
      "execution_count": 8,
      "outputs": [
        {
          "output_type": "stream",
          "name": "stdout",
          "text": [
            "37\n",
            "1\n",
            "1.0555555555555556\n"
          ]
        },
        {
          "output_type": "error",
          "ename": "NameError",
          "evalue": "ignored",
          "traceback": [
            "\u001b[0;31m---------------------------------------------------------------------------\u001b[0m",
            "\u001b[0;31mNameError\u001b[0m                                 Traceback (most recent call last)",
            "\u001b[0;32m<ipython-input-8-1b2ce1d4a3dd>\u001b[0m in \u001b[0;36m<module>\u001b[0;34m\u001b[0m\n\u001b[1;32m      2\u001b[0m \u001b[0mprint\u001b[0m\u001b[0;34m(\u001b[0m\u001b[0msubtração\u001b[0m\u001b[0;34m)\u001b[0m\u001b[0;34m\u001b[0m\u001b[0;34m\u001b[0m\u001b[0m\n\u001b[1;32m      3\u001b[0m \u001b[0mprint\u001b[0m\u001b[0;34m(\u001b[0m\u001b[0mdivisão\u001b[0m\u001b[0;34m)\u001b[0m\u001b[0;34m\u001b[0m\u001b[0;34m\u001b[0m\u001b[0m\n\u001b[0;32m----> 4\u001b[0;31m \u001b[0mprint\u001b[0m\u001b[0;34m(\u001b[0m\u001b[0mMultiplicação\u001b[0m\u001b[0;34m)\u001b[0m\u001b[0;34m\u001b[0m\u001b[0;34m\u001b[0m\u001b[0m\n\u001b[0m",
            "\u001b[0;31mNameError\u001b[0m: name 'Multiplicação' is not defined"
          ]
        }
      ]
    },
    {
      "cell_type": "code",
      "source": [
        "#Operações com variáveis\n",
        "Paulo = 45\n",
        "Kennety = 10\n",
        "Iarley = 1\n",
        "media = (Paulo + Kennety + Iarley / 3)\n",
        "print(media)"
      ],
      "metadata": {
        "colab": {
          "base_uri": "https://localhost:8080/"
        },
        "id": "3GDQH-24o2pO",
        "outputId": "3f8b69c4-faa3-45fa-cb12-bc44c17500ce"
      },
      "execution_count": 12,
      "outputs": [
        {
          "output_type": "stream",
          "name": "stdout",
          "text": [
            "55.333333333333336\n"
          ]
        }
      ]
    },
    {
      "cell_type": "code",
      "source": [
        "#calcular idade\n",
        "anonasci = 2003\n",
        "print(2023-2003)"
      ],
      "metadata": {
        "colab": {
          "base_uri": "https://localhost:8080/"
        },
        "id": "TJNJh17jpb8t",
        "outputId": "53c9c4d3-98db-4254-94d2-5be6cc0c32fb"
      },
      "execution_count": 14,
      "outputs": [
        {
          "output_type": "stream",
          "name": "stdout",
          "text": [
            "20\n"
          ]
        }
      ]
    },
    {
      "cell_type": "code",
      "source": [
        "#trabalhando com INPUTS\n",
        "Nome =  input('Seu Nome ')\n",
        "print('Olá, '+ nome)"
      ],
      "metadata": {
        "colab": {
          "base_uri": "https://localhost:8080/"
        },
        "id": "PScfvMEfprOQ",
        "outputId": "5e55064b-df95-4439-c134-a3e85b5c233e"
      },
      "execution_count": 27,
      "outputs": [
        {
          "output_type": "stream",
          "name": "stdout",
          "text": [
            "Seu Nome Paulo Gostoso\n",
            "Olá, Paulo Silva\n"
          ]
        }
      ]
    },
    {
      "cell_type": "code",
      "source": [
        "#pede um numero e multiplica por 3\n",
        "num = int(input('Digite um numero '))\n",
        "print(num*3)"
      ],
      "metadata": {
        "colab": {
          "base_uri": "https://localhost:8080/"
        },
        "id": "4iTQ2DkaqPgi",
        "outputId": "d4a39a97-9251-40d8-df91-524d29433d01"
      },
      "execution_count": 21,
      "outputs": [
        {
          "output_type": "stream",
          "name": "stdout",
          "text": [
            "Digite um numero 10\n",
            "30\n"
          ]
        }
      ]
    }
  ]
}