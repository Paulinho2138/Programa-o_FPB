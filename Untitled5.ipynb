{
  "nbformat": 4,
  "nbformat_minor": 0,
  "metadata": {
    "colab": {
      "provenance": [],
      "authorship_tag": "ABX9TyPfdaU2bOoaf/kLbjkBASkJ",
      "include_colab_link": true
    },
    "kernelspec": {
      "name": "python3",
      "display_name": "Python 3"
    },
    "language_info": {
      "name": "python"
    }
  },
  "cells": [
    {
      "cell_type": "markdown",
      "metadata": {
        "id": "view-in-github",
        "colab_type": "text"
      },
      "source": [
        "<a href=\"https://colab.research.google.com/github/Paulinho2138/Programa-o_FPB/blob/main/Untitled5.ipynb\" target=\"_parent\"><img src=\"https://colab.research.google.com/assets/colab-badge.svg\" alt=\"Open In Colab\"/></a>"
      ]
    },
    {
      "cell_type": "code",
      "execution_count": 4,
      "metadata": {
        "colab": {
          "base_uri": "https://localhost:8080/"
        },
        "id": "M9VExAVz74yP",
        "outputId": "65aa8326-d2f4-4ea5-b192-4df11ed5d781"
      },
      "outputs": [
        {
          "output_type": "execute_result",
          "data": {
            "text/plain": [
              "['Zé', 'Tião', 'Joaquim', 'Julia', 'Ana', 'Zabé', 'Maria']"
            ]
          },
          "metadata": {},
          "execution_count": 4
        }
      ],
      "source": [
        "nomes = ['Zé', 'Tião', 'Joaquim']\n",
        "nomes.append('Julia')\n",
        "\n",
        "#varios valores\n",
        "outrosNomes = ['Ana', 'Zabé', 'Maria']\n",
        "nomes.extend(outrosNomes)\n",
        "\n",
        "nomes "
      ]
    },
    {
      "cell_type": "code",
      "source": [
        "#Crie uma lista de números e\n",
        "numeros = [2, 4, 1, 6, 9, 12]\n",
        "#remova o primeiro elemento da lista\n",
        "numeros.remove(numeros[0])\n",
        "#remova o ultimo numero da lista\n",
        "numeros.pop()"
      ],
      "metadata": {
        "colab": {
          "base_uri": "https://localhost:8080/"
        },
        "id": "0pwQx9CI9lrD",
        "outputId": "1223998f-0397-4d69-8bc2-50af5942c3e2"
      },
      "execution_count": 5,
      "outputs": [
        {
          "output_type": "execute_result",
          "data": {
            "text/plain": [
              "12"
            ]
          },
          "metadata": {},
          "execution_count": 5
        }
      ]
    },
    {
      "cell_type": "code",
      "source": [
        "#1 - Crie ma lista de notas, e exiba-a da menor para maior\n",
        "notas = [2,10, 9, 4, 7, 3, 8]\n",
        "nomes = ['Ademar', 'Maristênio', 'Asdrúbal', 'Léo']\n",
        "notas.sort()\n",
        "nomes.sort(reverse=True)\n",
        "#2 - Crie uma lista de nomes de frutas e ordene-a em ordem decrescente\n",
        "\n",
        "nomes"
      ],
      "metadata": {
        "colab": {
          "base_uri": "https://localhost:8080/"
        },
        "id": "rw8yHFS-_5I3",
        "outputId": "6def6cf5-551a-4a8f-bb39-2b534ffa32b3"
      },
      "execution_count": 11,
      "outputs": [
        {
          "output_type": "execute_result",
          "data": {
            "text/plain": [
              "['Maristênio', 'Léo', 'Asdrúbal', 'Ademar']"
            ]
          },
          "metadata": {},
          "execution_count": 11
        }
      ]
    },
    {
      "cell_type": "code",
      "source": [
        "#Exemplo função map - cria uma nova lista com o dobro\n",
        "numeros = [2,4,6,3]\n",
        "nova_lista - list(map(lambda x : x*2, numeros))\n",
        "nova_lista"
      ],
      "metadata": {
        "id": "PS74xjE2DumJ"
      },
      "execution_count": null,
      "outputs": []
    },
    {
      "cell_type": "code",
      "source": [
        "#pegar cada um dos numeros acima e dividir por 3\n",
        "numDivi = list(map(lambda x : x/3))\n",
        "\n",
        "numSoma"
      ],
      "metadata": {
        "id": "iVCVJpniEEuW"
      },
      "execution_count": null,
      "outputs": []
    },
    {
      "cell_type": "code",
      "source": [
        "#Exemplo função filter - a partir de uma lista de nomes,\n",
        "nomes = ['Jose', 'joaquim', 'Baiano', 'Paulo']\n",
        "\n",
        "newlist = list(filter(lambda x : len(x)>5, nomes))\n",
        "newlist"
      ],
      "metadata": {
        "colab": {
          "base_uri": "https://localhost:8080/"
        },
        "id": "NcLd6gN5FDSw",
        "outputId": "29d07ef5-d1ae-4024-fc8a-dd9c97f79d2e"
      },
      "execution_count": 19,
      "outputs": [
        {
          "output_type": "execute_result",
          "data": {
            "text/plain": [
              "['joaquim', 'Baiano']"
            ]
          },
          "metadata": {},
          "execution_count": 19
        }
      ]
    },
    {
      "cell_type": "code",
      "source": [
        "#Crie uma lista de notas, imprime as maiores que 6\n",
        "notas = [10, 8, 10, 8, 8, 9]\n",
        "newNotas list(filter(lambda x : x>6, notas))\n",
        "\n",
        "newNotas\n",
        "\n",
        "\n"
      ],
      "metadata": {
        "id": "icAlGHkXHghg"
      },
      "execution_count": null,
      "outputs": []
    },
    {
      "cell_type": "code",
      "source": [
        "#Dada uma lista de número, retorne uma lista contendo o quadrado de cada numero"
      ],
      "metadata": {
        "id": "PVVgzbSRKd5J"
      },
      "execution_count": null,
      "outputs": []
    }
  ]
}