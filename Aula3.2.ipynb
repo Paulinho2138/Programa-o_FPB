{
  "nbformat": 4,
  "nbformat_minor": 0,
  "metadata": {
    "colab": {
      "provenance": [],
      "authorship_tag": "ABX9TyNW1gre2OhPdoZqkAs0C9tn",
      "include_colab_link": true
    },
    "kernelspec": {
      "name": "python3",
      "display_name": "Python 3"
    },
    "language_info": {
      "name": "python"
    }
  },
  "cells": [
    {
      "cell_type": "markdown",
      "metadata": {
        "id": "view-in-github",
        "colab_type": "text"
      },
      "source": [
        "<a href=\"https://colab.research.google.com/github/Paulinho2138/Programa-o_FPB/blob/main/Aula3.2.ipynb\" target=\"_parent\"><img src=\"https://colab.research.google.com/assets/colab-badge.svg\" alt=\"Open In Colab\"/></a>"
      ]
    },
    {
      "cell_type": "code",
      "execution_count": 2,
      "metadata": {
        "id": "4VzccZw_9I2g"
      },
      "outputs": [],
      "source": [
        "#Linguagem fortemente tipadas\n",
        "#Linguagem de tipagem dinâmica"
      ]
    },
    {
      "cell_type": "code",
      "source": [
        "#Lista são estruturas de dados formadas por elemebtis de um mesmo tipo\n",
        "numeros =[25, 4, 3, 6]\n",
        "numeros"
      ],
      "metadata": {
        "colab": {
          "base_uri": "https://localhost:8080/"
        },
        "id": "TG1Sr6w69Trf",
        "outputId": "b2b4c1c3-d117-45d1-f23a-d7a1a65b1365"
      },
      "execution_count": 3,
      "outputs": [
        {
          "output_type": "execute_result",
          "data": {
            "text/plain": [
              "[25, 4, 3, 6]"
            ]
          },
          "metadata": {},
          "execution_count": 3
        }
      ]
    },
    {
      "cell_type": "code",
      "source": [
        "#tamanho de uma lista\n",
        "len(numeros)"
      ],
      "metadata": {
        "colab": {
          "base_uri": "https://localhost:8080/"
        },
        "id": "Ofy7MUbR-ZU1",
        "outputId": "5d8f9f87-dd33-4cc4-cb0d-cc0743855e20"
      },
      "execution_count": 4,
      "outputs": [
        {
          "output_type": "execute_result",
          "data": {
            "text/plain": [
              "4"
            ]
          },
          "metadata": {},
          "execution_count": 4
        }
      ]
    },
    {
      "cell_type": "code",
      "source": [
        "#Indices [25, 4, 3, 6]\n",
        "print(numeros[0])\n",
        "print(numeros[1])\n",
        "print(numeros[2])\n",
        "print(numeros[3])\n"
      ],
      "metadata": {
        "colab": {
          "base_uri": "https://localhost:8080/"
        },
        "id": "aB67XeLv9qDu",
        "outputId": "9e49c68d-d8d4-4d77-cfeb-601601a75691"
      },
      "execution_count": 6,
      "outputs": [
        {
          "output_type": "stream",
          "name": "stdout",
          "text": [
            "25\n",
            "4\n",
            "3\n",
            "6\n"
          ]
        }
      ]
    },
    {
      "cell_type": "code",
      "source": [],
      "metadata": {
        "id": "5U4TCXpQ_Fj9"
      },
      "execution_count": null,
      "outputs": []
    }
  ]
}